{
 "cells": [
  {
   "cell_type": "code",
   "execution_count": 3,
   "id": "initial_id",
   "metadata": {
    "collapsed": true,
    "ExecuteTime": {
     "end_time": "2024-10-26T03:36:48.309645Z",
     "start_time": "2024-10-26T03:36:48.296335Z"
    }
   },
   "outputs": [],
   "source": [
    "def read_student_data(file_path):\n",
    "    \"\"\"Read data from csv file and return\"\"\"\n",
    "    students_list = []\n",
    "    with open(file_path, mode='r') as file:\n",
    "        headers = file.readline().strip().split(\",\")\n",
    "        for line in file:\n",
    "            student = {}\n",
    "            values = line.strip().split(\",\")\n",
    "            for i, header in enumerate(headers):\n",
    "                student[header.strip()] = values[i].strip()\n",
    "                if header.strip() == \"CGPA\":\n",
    "                    student[header.strip()] = float(student[header.strip()])\n",
    "\n",
    "            students_list.append(student)\n",
    "\n",
    "    return students_list"
   ]
  },
  {
   "cell_type": "code",
   "outputs": [],
   "source": [
    "def pick_student(all_students, tut_grp):\n",
    "    \"\"\"pick student out from the tutorial group\"\"\"\n",
    "    students_list = []\n",
    "\n",
    "    for student in all_students:\n",
    "        if student['Tutorial Group'] == f'G-{tut_grp}':\n",
    "            students_list.append(student)\n",
    "\n",
    "    return students_list"
   ],
   "metadata": {
    "collapsed": false,
    "ExecuteTime": {
     "end_time": "2024-10-26T03:36:48.688106Z",
     "start_time": "2024-10-26T03:36:48.678378Z"
    }
   },
   "id": "b5b286cca8bf9aaf",
   "execution_count": 4
  },
  {
   "cell_type": "code",
   "outputs": [],
   "source": [
    "def diverse_team(sorted_student_more, sorted_student_less):  # index(0,-1,or middle)\n",
    "    team = []\n",
    "    i = 0  # round\n",
    "    sorted_student = [sorted_student_more, sorted_student_less]\n",
    "\n",
    "    gender_index = 0\n",
    "\n",
    "    while len(team) < 5 and (sorted_student[0] or sorted_student[1]):  # add student into team when teams is not full\n",
    "        index_changes = [+1, -1, +1]\n",
    "        pick_index = [0, -1, len(sorted_student[gender_index]) // 2]\n",
    "        while True:\n",
    "            if not sorted_student[gender_index]:\n",
    "                break\n",
    "            elif index_changes[i] >= 0 and pick_index[i] + index_changes[i] < len(sorted_student[gender_index]) and index_changes[\n",
    "                i] <= 5:\n",
    "                # Check if school is not in the team\n",
    "                if sorted_student[gender_index][pick_index[i] + index_changes[i]]['School'] not in [student['School'] for student in\n",
    "                                                                                                    team]:\n",
    "                    team.append(sorted_student[gender_index].pop(pick_index[i] + index_changes[i]))\n",
    "                    break\n",
    "                else:\n",
    "                    index_changes[i] += 1\n",
    "            elif index_changes[i] < 0 and abs(pick_index[i] + index_changes[i]) <= len(sorted_student[gender_index]) and abs(\n",
    "                    index_changes[i]) <= 5:\n",
    "                # Check if school is not in the team\n",
    "                if sorted_student[gender_index][pick_index[i] + index_changes[i]]['School'] not in [student['School'] for student in\n",
    "                                                                                                    team]:\n",
    "                    team.append(sorted_student[gender_index].pop(pick_index[i] + index_changes[i]))\n",
    "                    break\n",
    "                else:\n",
    "                    index_changes[i] -= 1\n",
    "            else:\n",
    "                # If the index exceeds the list length, reset index_changes or break\n",
    "                team.append(sorted_student[gender_index].pop(pick_index[i]))\n",
    "                break\n",
    "\n",
    "        i += 1\n",
    "        gender_index += 1\n",
    "        if i > 2:\n",
    "            i = 0\n",
    "        if gender_index > 1:\n",
    "            gender_index = 0\n",
    "\n",
    "    return team"
   ],
   "metadata": {
    "collapsed": false,
    "ExecuteTime": {
     "end_time": "2024-10-26T03:36:49.073787Z",
     "start_time": "2024-10-26T03:36:49.034689Z"
    }
   },
   "id": "19a5fe1eecb394d4",
   "execution_count": 5
  },
  {
   "cell_type": "code",
   "outputs": [],
   "source": [
    "def division_into_team(students_list):\n",
    "    \"\"\"Divides student from student_list into group of 5 with balance of cgpa and gender, and diverse of school\"\"\"\n",
    "    # Separate male and female students into two lists\n",
    "    male_students = [student for student in students_list if student['Gender'] == 'Male']\n",
    "    female_students = [student for student in students_list if student['Gender'] == 'Female']\n",
    "\n",
    "    # Sort the male and female students by CGPA\n",
    "    male_sorted_students = sorted(male_students, key=lambda student: student['CGPA'])\n",
    "    female_sorted_students = sorted(female_students, key=lambda student: student['CGPA'])\n",
    "\n",
    "    teams = [[] for _ in range(len(students_list) // 5)]\n",
    "    team_index = 0\n",
    "\n",
    "    while team_index < len(teams):  # while haven't added student into all teams\n",
    "        if len(male_sorted_students) >= len(female_sorted_students):  # if remain male student more than remain female student\n",
    "            teams[team_index] = diverse_team(male_sorted_students, female_sorted_students)\n",
    "\n",
    "        else:  # if remain male student less than remain female student\n",
    "            teams[team_index] = diverse_team(female_sorted_students, male_sorted_students)\n",
    "\n",
    "        team_index += 1\n",
    "\n",
    "    return teams"
   ],
   "metadata": {
    "collapsed": false,
    "ExecuteTime": {
     "end_time": "2024-10-26T03:36:49.459396Z",
     "start_time": "2024-10-26T03:36:49.433190Z"
    }
   },
   "id": "cf8def9122a654c4",
   "execution_count": 6
  },
  {
   "cell_type": "code",
   "outputs": [],
   "source": [
    "#This function can ignore\n",
    "def see_group_division(group_div):\n",
    "    for i, x in enumerate(group_div):\n",
    "        print(f\"Group {i}\")\n",
    "        cgpa = 0\n",
    "        for j in x:\n",
    "            print(j[\"Student ID\"], j[\"School\"], j[\"CGPA\"], j[\"Gender\"])\n",
    "            cgpa += j[\"CGPA\"]\n",
    "        print(f\" the mean cgpa of this group is {cgpa / len(x)}\")\n",
    "        print()\n",
    "\n",
    "\n",
    "students = read_student_data('records.csv')\n",
    "group_division = []\n",
    "tutorial_grp = 1\n",
    "\n",
    "while tutorial_grp <= 150:\n",
    "    group_division.extend(division_into_team(pick_student(students, tutorial_grp)))\n",
    "    tutorial_grp += 1\n",
    "\n",
    "see_group_division(group_division)"
   ],
   "metadata": {
    "collapsed": false
   },
   "id": "e91cdbf3969c4d06"
  }
 ],
 "metadata": {
  "kernelspec": {
   "display_name": "Python 3",
   "language": "python",
   "name": "python3"
  },
  "language_info": {
   "codemirror_mode": {
    "name": "ipython",
    "version": 2
   },
   "file_extension": ".py",
   "mimetype": "text/x-python",
   "name": "python",
   "nbconvert_exporter": "python",
   "pygments_lexer": "ipython2",
   "version": "2.7.6"
  }
 },
 "nbformat": 4,
 "nbformat_minor": 5
}
