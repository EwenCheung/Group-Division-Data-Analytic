{
 "cells": [
  {
   "cell_type": "markdown",
   "id": "0b12c557",
   "metadata": {},
   "source": [
    "# Team Allocation Simulator #\n",
    "by Ewen, Wei Hao, Zerius, Youde, Shawn"
   ]
  },
  {
   "cell_type": "markdown",
   "id": "ffb8ae66",
   "metadata": {},
   "source": [
    "## Resources provided ##\n",
    "We have received a CSV file 'records.csv', which have given us the following information of each of the 6000 students\n",
    "1. The students' name\n",
    "2. The students' ID\n",
    "3. The students' tutorial group\n",
    "4. The students' gender\n",
    "5. The students' school affiliation\n",
    "6. The students' current CGPA"
   ]
  },
  {
   "cell_type": "markdown",
   "id": "8ce6363d",
   "metadata": {},
   "source": [
    "## Requirements ##\n",
    "We are to develop an application that does the following \n",
    "1. Organize students into teams of five\n",
    "2. Team members should be in the same tutorial group\n",
    "3. No team should have a majority of students from the same school\n",
    "4. No team should have a majority of students of the same gender\n",
    "5. No team should not consist predominantly of students with very high or very low CGPAs "
   ]
  },
  {
   "cell_type": "markdown",
   "id": "7628e794",
   "metadata": {},
   "source": [
    "## Thought Process ##\n",
    "We have analysed the current context and decided that we should follow this procedure\n",
    "1. Develop a function to read CSV files and extract students's information.\n",
    "2. Develop a function to sort students by tutorial groups\n",
    "3. Develop a function to add students into a team, while ensuring there is a balance in gender and there are no students with the same school affliatio, as well as have a mixture of CGPAs.\n",
    "4. Develop a function to sort students by gender, then CGPA in their own respective tutorial groups\n",
    "\n",
    "We believe that this would be the most efficient approach"
   ]
  },
  {
   "cell_type": "markdown",
   "id": "93bcafc3",
   "metadata": {},
   "source": [
    "## Function to Read CSV File ##\n",
    "We will first create a function to read the CSV. It will then add each student's information (those listed above) into a dictionary. The dictionaries of the students' details will be stored in a list."
   ]
  },
  {
   "cell_type": "code",
   "execution_count": 3,
   "id": "initial_id",
   "metadata": {
    "ExecuteTime": {
     "end_time": "2024-10-26T03:36:48.309645Z",
     "start_time": "2024-10-26T03:36:48.296335Z"
    },
    "collapsed": true
   },
   "outputs": [],
   "source": [
    "def read_student_data(file_path):\n",
    "    \"\"\"Read data from csv file and return\"\"\"\n",
    "    students_list = []\n",
    "    with open(file_path, mode='r') as file:\n",
    "        headers = file.readline().strip().split(\",\")\n",
    "        for line in file:\n",
    "            student = {}\n",
    "            values = line.strip().split(\",\")\n",
    "            for i, header in enumerate(headers):\n",
    "                student[header.strip()] = values[i].strip()\n",
    "                if header.strip() == \"CGPA\":\n",
    "                    student[header.strip()] = float(student[header.strip()])\n",
    "\n",
    "            students_list.append(student)\n",
    "\n",
    "    return students_list"
   ]
  },
  {
   "cell_type": "markdown",
   "id": "06fc8072",
   "metadata": {},
   "source": [
    "## Function to Sort Students By Tutorial Groups ##\n",
    "Since the members of each group should be in the same tutorial group, we decided that it would be more efficient to meet this requirement first. In this function, we have split the dictionaries of each student to lists of their own respective tutorial groups."
   ]
  },
  {
   "cell_type": "code",
   "execution_count": 4,
   "id": "b5b286cca8bf9aaf",
   "metadata": {
    "ExecuteTime": {
     "end_time": "2024-10-26T03:36:48.688106Z",
     "start_time": "2024-10-26T03:36:48.678378Z"
    },
    "collapsed": false
   },
   "outputs": [],
   "source": [
    "def pick_student(all_students, tut_grp):\n",
    "    \"\"\"pick student out from the tutorial group\"\"\"\n",
    "    students_list = []\n",
    "\n",
    "    for student in all_students:\n",
    "        if student['Tutorial Group'] == f'G-{tut_grp}':\n",
    "            students_list.append(student)\n",
    "\n",
    "    return students_list"
   ]
  },
  {
   "cell_type": "markdown",
   "id": "a9ae815d",
   "metadata": {},
   "source": [
    "## Function to form a team of 5 students ##\n",
    "We will now design a function to form a team of 5 students. This function will have 2 parameters, a list with male students with their CGPA sorted, as well as a list with female students with their CGPA sorted. We will implement another function later for the sorting of gender and CGPA.\n",
    "\n",
    "For this function, we will be primarily be focussing on how we would ensure teams would have students with different school affliations, and how we would balance out the CGPA and gender in each group.\n",
    "\n",
    "Our method would be to select a student with the lowest CGPA amongst his/her gender. We will then select a student of opposite gender with the highest CGPA. This repeats for another time. The final student selected would have the median CGPA amongst his/her gender, where the number of students of this gender is greater than the other. This effectively allows for a good mix of CGPA in a group, while ensuring there will be a 3:2 ratio for the gender and that students have different school affiliations\n",
    "\n",
    "In the event where the student selected has the same school affliation as another student already in the group, the function will choose the next best alternative\n",
    "> If the next female student with the lowest CGPA has the same school affiliation with another student in the group, the second lowest CGPA female student will be selected instead. If the second lowest CGPA female student also has same school affilation with another student in the group, the third lowest CGPA female student will be selected, and so on.\n",
    "\n",
    "However, to ensure that the mean of CGPA does not differ alot between teams, we would stop the changing of index after it increases by 5. This also ensures that the mixture of CGPA will not affect other teams as well.\n",
    "\n"
   ]
  },
  {
   "cell_type": "markdown",
   "id": "fc5cd6a3",
   "metadata": {},
   "source": [
    "### Pseudocode for the Function ##\n",
    "<font color='green'>INITIALISE</font> team, a list for a team with 0 members \n",
    "<br><font color='green'>INITIALISE</font> i, where i cycles from 0 to 2\n",
    "<br><font color='green'>INITIALISE</font> sorted_student, a list containing a list of male students with CGPA sorted, and a list with female students with CGPA sorted\n",
    "<br><font color='green'>INITIALISE</font> gender_index equal zero\n",
    "\n",
    "<font color='green'>WHILE</font> <font color='red'>(team contain less than 5 members)</font> <font color='green'>AND</font> <font color='blue'>(there are still male or female students)</font>:\n",
    "<br> &emsp;<font color='green'>INITIALISE</font> pick_index, a list which contains the index of the students chosen to join the group\n",
    "<br> &emsp;<font color='green'>INITIALISE</font> index_changes, a list which contains the mathematical operations to change index\n",
    "<br> &emsp;&emsp;<font color='green'>IF</font> <font color='red'>(there are no more students of the chosen gender)</font>:\n",
    "<br> &emsp;&emsp;&emsp;<font color='green'>BREAK</font>\n",
    "<br> &emsp;&emsp;<font color='green'>ELSE IF</font> <font color='red'>(value of index changes is in the range of 0 to 5)</font> <font color='green'>AND</font> <font color='blue'>(final index has smaller value than length of list of gender)</font>:\n",
    "<br>&emsp;&emsp;&emsp;<font color='green'>IF</font> <font color='red'>(school of chosen student is not in the team)</font>:\n",
    "<br>&emsp;&emsp;&emsp;&emsp;<font color='green'>POP</font> the student into the team\n",
    "<br>&emsp;&emsp;&emsp;&emsp;<font color='green'>BREAK</font>\n",
    "<br>&emsp;&emsp;&emsp;<font color='green'>ELSE</font>:\n",
    "<br>&emsp;&emsp;&emsp;&emsp;<font color='green'>INCREMENT</font> the value of index changes by 1\n",
    "<br>&emsp;&emsp;<font color='green'>ELSE IF</font> <font color='red'>(value of index changes is in the range of -5 to 0)</font> <font color='green'>AND</font> <font color='blue'>(absolute final index value has smaller value than length of list of gender)</font>:\n",
    "<br>&emsp;&emsp;&emsp;<font color='green'>IF</font> <font color='red'>(school of chosen student is not in the team)</font>:\n",
    "<br>&emsp;&emsp;&emsp;&emsp;<font color='green'>POP</font> the student into the team\n",
    "<br>&emsp;&emsp;&emsp;&emsp;<font color='green'>BREAK</font>\n",
    "<br>&emsp;&emsp;&emsp;<font color='green'>ELSE</font>:\n",
    "<br>&emsp;&emsp;&emsp;&emsp;<font color='green'>DECREMENT</font> the value of index changes by 1\n",
    "<br>&emsp;&emsp;<font color='green'>ELSE</font>:\n",
    "<br>&emsp;&emsp;&emsp;<font color='green'>POP</font> the student whose index is the value of pick_index\n",
    "<br>&emsp;&emsp;&emsp;<font color='green'>BREAK</font>\n",
    "<br>&emsp;<font color='green'>INCREMENT</font> i by 1\n",
    "<br>&emsp;<font color='green'>IF</font> <font color='red'>(i is more than 2)</font>;\n",
    "<br>&emsp;&emsp;<font color='green'>RESET</font> i to 0\n",
    "<br>&emsp;<font color='green'>IF</font> <font color='red'>(gender_index is more than 1)</font>:\n",
    "<br>&emsp;&emsp;<font color='green'>RESET</font> gender_index to 0\n",
    "<br><font color='green'>RETURN</font> the list of the team"
   ]
  },
  {
   "cell_type": "code",
   "execution_count": 5,
   "id": "19a5fe1eecb394d4",
   "metadata": {
    "ExecuteTime": {
     "end_time": "2024-10-26T03:36:49.073787Z",
     "start_time": "2024-10-26T03:36:49.034689Z"
    },
    "collapsed": false
   },
   "outputs": [],
   "source": [
    "def diverse_team(sorted_student_more, sorted_student_less):  # index(0,-1,or middle)\n",
    "    team = []\n",
    "    i = 0  # round\n",
    "    sorted_student = [sorted_student_more, sorted_student_less]\n",
    "\n",
    "    gender_index = 0\n",
    "\n",
    "    while len(team) < 5 and (sorted_student[0] or sorted_student[1]):  # add student into team when teams is not full\n",
    "        index_changes = [+1, -1, +1]\n",
    "        pick_index = [0, -1, len(sorted_student[gender_index]) // 2]\n",
    "        while True:\n",
    "            if not sorted_student[gender_index]:\n",
    "                break\n",
    "            elif index_changes[i] >= 0 and pick_index[i] + index_changes[i] < len(sorted_student[gender_index]) and index_changes[\n",
    "                i] <= 5:\n",
    "                # Check if school is not in the team\n",
    "                if sorted_student[gender_index][pick_index[i] + index_changes[i]]['School'] not in [student['School'] for student in\n",
    "                                                                                                    team]:\n",
    "                    team.append(sorted_student[gender_index].pop(pick_index[i] + index_changes[i]))\n",
    "                    break\n",
    "                else:\n",
    "                    index_changes[i] += 1\n",
    "            elif index_changes[i] < 0 and abs(pick_index[i] + index_changes[i]) <= len(sorted_student[gender_index]) and abs(\n",
    "                    index_changes[i]) <= 5:\n",
    "                # Check if school is not in the team\n",
    "                if sorted_student[gender_index][pick_index[i] + index_changes[i]]['School'] not in [student['School'] for student in\n",
    "                                                                                                    team]:\n",
    "                    team.append(sorted_student[gender_index].pop(pick_index[i] + index_changes[i]))\n",
    "                    break\n",
    "                else:\n",
    "                    index_changes[i] -= 1\n",
    "            else:\n",
    "                # If the index exceeds the list length, reset index_changes or break\n",
    "                team.append(sorted_student[gender_index].pop(pick_index[i]))\n",
    "                break\n",
    "\n",
    "        i += 1\n",
    "        gender_index += 1\n",
    "        if i > 2:\n",
    "            i = 0\n",
    "        if gender_index > 1:\n",
    "            gender_index = 0\n",
    "\n",
    "    return team"
   ]
  },
  {
   "cell_type": "markdown",
   "id": "c295f8b2",
   "metadata": {},
   "source": [
    "## Function to Sort by Gender and CGPA ##\n",
    "This function would split students by their gender into 2 lists. Each list will then be sorted by CGPA. The function will determine whether the tutorial group has more males or femeles, and the lists produced will then be used as diverse_team parameters. \n",
    "The function will return the groups formed in lists, nested in a whole list."
   ]
  },
  {
   "cell_type": "code",
   "execution_count": 1,
   "id": "cf8def9122a654c4",
   "metadata": {
    "ExecuteTime": {
     "end_time": "2024-10-26T03:36:49.459396Z",
     "start_time": "2024-10-26T03:36:49.433190Z"
    },
    "collapsed": false
   },
   "outputs": [],
   "source": [
    "def division_into_team(students_list):\n",
    "    \"\"\"Divides student from student_list into group of 5 with balance of cgpa and gender, and diverse of school\"\"\"\n",
    "    # Separate male and female students into two lists\n",
    "    male_students = [student for student in students_list if student['Gender'] == 'Male']\n",
    "    female_students = [student for student in students_list if student['Gender'] == 'Female']\n",
    "\n",
    "    # Sort the male and female students by CGPA\n",
    "    male_sorted_students = sorted(male_students, key=lambda student: student['CGPA'])\n",
    "    female_sorted_students = sorted(female_students, key=lambda student: student['CGPA'])\n",
    "\n",
    "    teams = [[] for _ in range(len(students_list) // 5)]\n",
    "    team_index = 0\n",
    "\n",
    "    while team_index < len(teams):  # while haven't added student into all teams\n",
    "        if len(male_sorted_students) >= len(female_sorted_students):  # if remain male student more than remain female student\n",
    "            teams[team_index] = diverse_team(male_sorted_students, female_sorted_students)\n",
    "\n",
    "        else:  # if remain male student less than remain female student\n",
    "            teams[team_index] = diverse_team(female_sorted_students, male_sorted_students)\n",
    "\n",
    "        team_index += 1\n",
    "\n",
    "    return teams"
   ]
  },
  {
   "cell_type": "code",
   "execution_count": null,
   "id": "e91cdbf3969c4d06",
   "metadata": {
    "collapsed": false
   },
   "outputs": [],
   "source": [
    "#This function can ignore\n",
    "def see_group_division(group_div):\n",
    "    for i, x in enumerate(group_div):\n",
    "        print(f\"Group {i}\")\n",
    "        cgpa = 0\n",
    "        for j in x:\n",
    "            print(j[\"Student ID\"], j[\"School\"], j[\"CGPA\"], j[\"Gender\"])\n",
    "            cgpa += j[\"CGPA\"]\n",
    "        print(f\" the mean cgpa of this group is {cgpa / len(x)}\")\n",
    "        print()\n",
    "\n",
    "\n",
    "students = read_student_data('records.csv')\n",
    "group_division = []\n",
    "tutorial_grp = 1\n",
    "\n",
    "while tutorial_grp <= 150:\n",
    "    group_division.extend(division_into_team(pick_student(students, tutorial_grp)))\n",
    "    tutorial_grp += 1\n",
    "\n",
    "see_group_division(group_division)"
   ]
  }
 ],
 "metadata": {
  "kernelspec": {
   "display_name": "base",
   "language": "python",
   "name": "python3"
  },
  "language_info": {
   "codemirror_mode": {
    "name": "ipython",
    "version": 3
   },
   "file_extension": ".py",
   "mimetype": "text/x-python",
   "name": "python",
   "nbconvert_exporter": "python",
   "pygments_lexer": "ipython3",
   "version": "3.12.4"
  }
 },
 "nbformat": 4,
 "nbformat_minor": 5
}
